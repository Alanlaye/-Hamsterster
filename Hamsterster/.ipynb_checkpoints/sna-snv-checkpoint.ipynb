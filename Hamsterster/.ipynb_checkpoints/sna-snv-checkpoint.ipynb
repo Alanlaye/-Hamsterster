{
 "cells": [
  {
   "cell_type": "code",
   "execution_count": 2,
   "id": "493e48d9",
   "metadata": {},
   "outputs": [],
   "source": [
    "import networkx as nx\n",
    "import numpy as np\n",
    "import pandas as pd"
   ]
  },
  {
   "cell_type": "code",
   "execution_count": 4,
   "id": "f8cd4fe7",
   "metadata": {},
   "outputs": [],
   "source": [
    "edge_file = \"out.petster-hamster-friend\"\n",
    "G = nx.read_edgelist(edge_file, nodetype=int, comments=\"%\")"
   ]
  },
  {
   "cell_type": "code",
   "execution_count": 7,
   "id": "a34baa01",
   "metadata": {},
   "outputs": [],
   "source": [
    "import csv\n",
    "\n",
    "# 打开一个文件对象，指定文件名和写入模式\n",
    "with open(\"edges.txt\", \"r\") as infile, open(\"dataset.csv\", \"w\") as outfile:\n",
    "    # 创建一个csv.reader对象，指定输入文件对象和分隔符\n",
    "    reader = csv.reader(infile, delimiter=\"\\t\")\n",
    "    # 创建一个csv.writer对象，指定输出文件对象和分隔符\n",
    "    writer = csv.writer(outfile, delimiter=\",\")\n",
    "    # 写入一行标题，表示边的两个端点\n",
    "    writer.writerow([\"Source\", \"Target\"])\n",
    "    # 写入多行数据，表示边集\n",
    "    writer.writerows(reader)"
   ]
  }
 ],
 "metadata": {
  "kernelspec": {
   "display_name": "Python 3 (ipykernel)",
   "language": "python",
   "name": "python3"
  },
  "language_info": {
   "codemirror_mode": {
    "name": "ipython",
    "version": 3
   },
   "file_extension": ".py",
   "mimetype": "text/x-python",
   "name": "python",
   "nbconvert_exporter": "python",
   "pygments_lexer": "ipython3",
   "version": "3.9.16"
  }
 },
 "nbformat": 4,
 "nbformat_minor": 5
}
